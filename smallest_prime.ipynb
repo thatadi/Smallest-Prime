{
  "nbformat": 4,
  "nbformat_minor": 0,
  "metadata": {
    "colab": {
      "provenance": [],
      "authorship_tag": "ABX9TyOh88fFGSCQ/jE7BH9prWLY",
      "include_colab_link": true
    },
    "kernelspec": {
      "name": "python3",
      "display_name": "Python 3"
    },
    "language_info": {
      "name": "python"
    }
  },
  "cells": [
    {
      "cell_type": "markdown",
      "metadata": {
        "id": "view-in-github",
        "colab_type": "text"
      },
      "source": [
        "<a href=\"https://colab.research.google.com/github/thatadi/Smallest-Prime/blob/main/smallest_prime.ipynb\" target=\"_parent\"><img src=\"https://colab.research.google.com/assets/colab-badge.svg\" alt=\"Open In Colab\"/></a>"
      ]
    },
    {
      "cell_type": "code",
      "execution_count": null,
      "metadata": {
        "colab": {
          "base_uri": "https://localhost:8080/"
        },
        "id": "duI-efZIDfEv",
        "outputId": "a9f3cb63-01cc-47c6-d6f8-d7319cc389b2"
      },
      "outputs": [
        {
          "output_type": "stream",
          "name": "stdout",
          "text": [
            "3 4 5 2\n",
            "2\n"
          ]
        }
      ],
      "source": [
        "def is_prime(num):\n",
        "    if num < 2:\n",
        "        return False\n",
        "    if num == 2:\n",
        "        return True\n",
        "    if num % 2 == 0:\n",
        "        return False\n",
        "\n",
        "    i = 3\n",
        "    while i * i <= num:\n",
        "        if num % i == 0:\n",
        "            return False\n",
        "        i += 2\n",
        "\n",
        "    return True\n",
        "\n",
        "def smallest_prime(q, numbers):\n",
        "    num = q\n",
        "    while True:\n",
        "        remainder_found = False\n",
        "        for n in numbers:\n",
        "            if num % n != q:\n",
        "                remainder_found = True\n",
        "                break\n",
        "\n",
        "        if not remainder_found and is_prime(num):\n",
        "            return num\n",
        "\n",
        "        num += 1\n",
        "\n",
        "def main():\n",
        "    numbers = list(map(int, input().split()))\n",
        "    n = numbers[0]\n",
        "    q = min(numbers[1:])\n",
        "    other_numbers = [num for num in numbers[1:] if num != q]\n",
        "\n",
        "    result = smallest_prime(q, other_numbers)\n",
        "    if result:\n",
        "        print(result)\n",
        "    else:\n",
        "        print(\"None\")\n",
        "\n",
        "if __name__ == \"__main__\":\n",
        "    main()\n"
      ]
    }
  ]
}